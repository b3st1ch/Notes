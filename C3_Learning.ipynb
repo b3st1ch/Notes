{
  "nbformat": 4,
  "nbformat_minor": 0,
  "metadata": {
    "colab": {
      "name": "C3 Learning.ipynb",
      "provenance": [],
      "mount_file_id": "14mhzfWeLheNMA6zrTzOGE24UfryhlMf2",
      "authorship_tag": "ABX9TyOgZZQmJcTut1+cxMLjKRLe",
      "include_colab_link": true
    },
    "kernelspec": {
      "name": "python3",
      "display_name": "Python 3"
    },
    "language_info": {
      "name": "python"
    }
  },
  "cells": [
    {
      "cell_type": "markdown",
      "metadata": {
        "id": "view-in-github",
        "colab_type": "text"
      },
      "source": [
        "<a href=\"https://colab.research.google.com/github/b3st1ch/Notes/blob/main/C3_Learning.ipynb\" target=\"_parent\"><img src=\"https://colab.research.google.com/assets/colab-badge.svg\" alt=\"Open In Colab\"/></a>"
      ]
    },
    {
      "cell_type": "markdown",
      "source": [
        "# ПЕРЕМЕННЫЕ\n",
        "\n"
      ],
      "metadata": {
        "id": "60f7s32HCiUc"
      }
    },
    {
      "cell_type": "markdown",
      "source": [
        "int  - для целочисленного значения;\n",
        "\n",
        "float - число с плавающей точкой;\n",
        "\n",
        "double - число с плавающей точкой увеличенной точности;\n",
        "\n",
        "char - один символ;\n",
        "string - последовательность символов;\n",
        "\n",
        "bool - может иметь значения true или false;\n",
        "\n",
        "var - Автоматически расспознает тип переменной;\n",
        "\n",
        "const - константа, значение присвоеное ей не сможет быть изменено;\n",
        "\n",
        "Math.Pow(x,y) - возведение числа в степень"
      ],
      "metadata": {
        "id": "BRAGl21gC1dH"
      }
    },
    {
      "cell_type": "code",
      "source": [
        "/* int пример */\n",
        "int num;\n",
        "num = 42;\n",
        " \n",
        "/* пример */\n",
        "int x = 42;\n",
        "double pi = 3.14;\n",
        "bool isOnline = true;\n",
        "string Name = \"SweetAssSlave\";\n",
        "char y = 'X';\n",
        "var num = 15;\n",
        "const double pi = 3.14;"
      ],
      "metadata": {
        "id": "40lS62liC4Ut"
      },
      "execution_count": null,
      "outputs": []
    },
    {
      "cell_type": "markdown",
      "source": [
        "# While and For, do-while\n"
      ],
      "metadata": {
        "id": "7c3FUnAWC7qD"
      }
    },
    {
      "cell_type": "markdown",
      "source": [
        "While повторно выполняет код пока выражение не будет истинно;\n",
        "\n",
        "For выполняет код определенное количество раз;\n",
        "имеет синтаксис: for(init; condition; increment);\n",
        "                    счетчик обьявляется в init;\n",
        "                    условие вычисляет значени счетчика в condition, если оно верно, выполняеться тело цикла;\n",
        "                    increment обновляет счетчик. условие выполняется пока выражение не станет ложным;\n",
        "//"
      ],
      "metadata": {
        "id": "mO_IQFcUC_Mn"
      }
    },
    {
      "cell_type": "code",
      "source": [
        "// пример использования while\n",
        "int num = 1;\n",
        "while (num < 6)\n",
        "{\n",
        "  Console.WriteLine(num);\n",
        "  num++;\n",
        "}\n",
        " \n",
        "// можно упростить код написав ++ и тд. прямо в условии. Например:\n",
        "int num = 1;\n",
        "while (++num < 6)\n",
        "{\n",
        "  Console.WriteLine(num);\n",
        "}\n",
        " \n",
        " \n",
        " \n",
        " \n",
        " \n",
        "// for пример:\n",
        "for (int x = 10; x < 15; x++)\n",
        "{\n",
        "  Console.WriteLine(\"Value of x = {0}\", x);\n",
        "}"
      ],
      "metadata": {
        "id": "DrjCzoFjDBfl"
      },
      "execution_count": null,
      "outputs": []
    },
    {
      "cell_type": "markdown",
      "source": [
        "do-while гарантированно выполняется ка минимум один раз;"
      ],
      "metadata": {
        "id": "MTQGayZ_DiDy"
      }
    },
    {
      "cell_type": "code",
      "source": [
        "// do-while пример использования:\n",
        "int a = 0;\n",
        "do \n",
        "{\n",
        "  Console.WriteLine(a);\n",
        "  a++\n",
        "} while (a < 5);"
      ],
      "metadata": {
        "id": "eMCeg5S-DkbU"
      },
      "execution_count": null,
      "outputs": []
    },
    {
      "cell_type": "markdown",
      "source": [
        "#Оператор ?"
      ],
      "metadata": {
        "id": "_koCsVrWDphc"
      }
    },
    {
      "cell_type": "markdown",
      "source": [
        "Оператор ? выглядит так:\n",
        "Exp1 ? Exp2 : Exp3;\n",
        "Сначало вычисляеться Exp1, если оно верно, затем вычисляется Exp2 и становиться значением всего выражения.\n",
        "Усли значение Exp1 ложно, тогда следующим вычисляется Exp3 и становиться значением всего выражения."
      ],
      "metadata": {
        "id": "I04wW03ODuXr"
      }
    },
    {
      "cell_type": "code",
      "source": [
        "// Пример использования оператора ?:\n",
        "int age = 42;\n",
        "string msg;\n",
        "msg = (age >= 18) ? \"Welcome\" : \"Closed\"; \n",
        "Console.WriteLine(msg);"
      ],
      "metadata": {
        "id": "ISVHg3iQDvy4"
      },
      "execution_count": null,
      "outputs": []
    },
    {
      "cell_type": "markdown",
      "source": [
        "#Ссылки, передача по ссылке"
      ],
      "metadata": {
        "id": "sKzjp0LNDxW1"
      }
    },
    {
      "cell_type": "markdown",
      "source": [
        "Передача по ссылке копирует адрес памяти. Внутри метода адрес используется для получения доступа к аргумента.\n",
        "Используется ссылка ref;\n",
        "\n",
        "\n",
        "out используется вывода значения а не для принятия."
      ],
      "metadata": {
        "id": "zbEePGxWD0UC"
      }
    },
    {
      "cell_type": "code",
      "source": [
        "static void Sqr (ref int x)\n",
        "{\n",
        "  x = x * x;\n",
        "}\n",
        "static void Main()\n",
        "{\n",
        "  int a = 3;\n",
        "  Sqr(ref a)  //output 9\n",
        "}\n",
        " \n",
        " \n",
        "======================================================================\n",
        " \n",
        "static void GetValues(out int x; out int y)\n",
        "{\n",
        "  x = 5;\n",
        "  y = 42;\n",
        "}\n",
        " \n",
        "static void Main(string[] args)\n",
        "{\n",
        "  int a, b;\n",
        "  GetValues(out a, out b)   // a = 5, y =42\n",
        "}"
      ],
      "metadata": {
        "id": "I0l8nfGcECIK"
      },
      "execution_count": null,
      "outputs": []
    },
    {
      "cell_type": "markdown",
      "source": [
        "#Факториал"
      ],
      "metadata": {
        "id": "ZIbrm0VFEIOE"
      }
    },
    {
      "cell_type": "markdown",
      "source": [
        "Факториал:\n",
        "Н: !5 = 5*4*3*2*1"
      ],
      "metadata": {
        "id": "OZpHQPq-ELwY"
      }
    },
    {
      "cell_type": "code",
      "source": [
        "// Пример использования Рекурсивного метода(вызывает сам себа) для исчеслния факториала:\n",
        " \n",
        "static int Fact(int num)\n",
        "{\n",
        "  if (num == 1)\n",
        "  {\n",
        "  return 1;\n",
        "  }\n",
        "  return num * Fact(num - 1);\n",
        "}\n",
        " \n",
        "static void Main(string[] args )\n",
        "{\n",
        "  Console.WriteLine(Fact(6));\n",
        "}"
      ],
      "metadata": {
        "id": "dH44TsalENKC"
      },
      "execution_count": null,
      "outputs": []
    },
    {
      "cell_type": "markdown",
      "source": [
        "#Классы"
      ],
      "metadata": {
        "id": "i0kPB7LfEPRr"
      }
    },
    {
      "cell_type": "markdown",
      "source": [
        "Код объявляет объект класса Person, названный p1 а затем вызывает его публичный метод SayHi()\n",
        "Обратите внимание на оператор точка (.), который используется для получения доступа и вызова метода объекта"
      ],
      "metadata": {
        "id": "pxwyYdaGESs9"
      }
    },
    {
      "cell_type": "code",
      "source": [
        "internal class Program\n",
        "{\n",
        "  static void Main \n",
        "  {\n",
        "    Person p1 = new Person();\n",
        "    p1.SayHi(); \n",
        "  }\n",
        "}\n",
        " \n",
        "class Person\n",
        "{\n",
        "  int age;\n",
        "  string name;\n",
        "  \n",
        "  public void SayHi()\n",
        "  {\n",
        "    Console.WriteLine(\"Hi\");\n",
        "  }\n",
        "}"
      ],
      "metadata": {
        "id": "JrRrkCvDEUDE"
      },
      "execution_count": null,
      "outputs": []
    },
    {
      "cell_type": "markdown",
      "source": [
        "Вы можете получить доступ ко всем публичным методам, используя оператор точка. \n",
        "Помимо вызова метода, вы можете использовать оператор точка для присваивания."
      ],
      "metadata": {
        "id": "ZF_uAnmmEVnK"
      }
    },
    {
      "cell_type": "code",
      "source": [
        "Class Dog \n",
        "{\n",
        "  public int age;\n",
        "  pubic string name;\n",
        "}\n",
        " \n",
        "internal class Programm\n",
        "{\n",
        "  static void Main(string[] args)\n",
        "  {\n",
        "    Dog bob = new Dog();\n",
        "    bob.age = 3;\n",
        "    bob.name = \"Bobby\";\n",
        "    \n",
        "    Console.WriteLine(bob.age);\n",
        "  }\n",
        "}"
      ],
      "metadata": {
        "colab": {
          "base_uri": "https://localhost:8080/",
          "height": 130
        },
        "id": "DuIK7gLqEXFM",
        "outputId": "62122865-5f74-4c36-9771-3245ba988d4a"
      },
      "execution_count": 3,
      "outputs": [
        {
          "output_type": "error",
          "ename": "SyntaxError",
          "evalue": "ignored",
          "traceback": [
            "\u001b[0;36m  File \u001b[0;32m\"<ipython-input-3-7c239aa83b1d>\"\u001b[0;36m, line \u001b[0;32m1\u001b[0m\n\u001b[0;31m    Class Dog\u001b[0m\n\u001b[0m            ^\u001b[0m\n\u001b[0;31mSyntaxError\u001b[0m\u001b[0;31m:\u001b[0m invalid syntax\n"
          ]
        }
      ]
    },
    {
      "cell_type": "markdown",
      "source": [
        "#GET SET"
      ],
      "metadata": {
        "id": "dA6Dt2OiEgM9"
      }
    },
    {
      "cell_type": "markdown",
      "source": [
        "  Как мы видели в предыдущих уроках, инкапсуляция элементов класса является хорошей практикой и предоставляет доступ к ним только через публичные методы.\n",
        "Свойство является элементом, предоставляющим гибкий механизм чтения, записи или вычисления значения приватного поля. Свойства могут использоваться, в качестве публичных элементов данных, но они в действительности включают специальные методы, называемые элементами доступа.\n",
        "Элемент доступа свойства содержит выполняемые выражения, которые помогают получить (прочитать или вычислить) или установить (записать) соответствующее поле. Объявление элементов доступа может включать элементы get, set, или и тот и другой.\n",
        "Как только свойство было определено, мы можем использовать его для присваивания и чтения приватного члена:"
      ],
      "metadata": {
        "id": "455YQV3FEi4Q"
      }
    },
    {
      "cell_type": "code",
      "source": [
        "class Program \n",
        "{\n",
        "  class Person\n",
        "  {\n",
        "    private string Name;\n",
        "    \n",
        "    public string Name\n",
        "    {\n",
        "      get {return name; }\n",
        "      set {name = value; }\n",
        "    }\n",
        "  }\n",
        "  \n",
        "  static void Main(string[] args)\n",
        "  {\n",
        "    Person p = new Person();\n",
        "    p.Name = \"Bob\";\n",
        "    Console.WriteLine(p.Name);\n",
        "  }\n",
        "}"
      ],
      "metadata": {
        "id": "PiG-htlPEkAD"
      },
      "execution_count": null,
      "outputs": []
    },
    {
      "cell_type": "markdown",
      "source": [
        "#Масивы"
      ],
      "metadata": {
        "id": "eV1nQyoCEmGh"
      }
    },
    {
      "cell_type": "markdown",
      "source": [
        "Массив является структурой данных, используемой для хранения коллекций информации. Вы можете представлять его, как коллекцию переменных одного типа.\n",
        "Для примера рассмотрим ситуацию, в которой вам необходимо хранить 100 чисел. Вместо объявления 100 разных переменных, вы можете объявить массив, хранящий 100 элементов."
      ],
      "metadata": {
        "id": "TTEBznkKEoI8"
      }
    },
    {
      "cell_type": "code",
      "source": [
        "// Чтобы объявить массив, укажите тип его элементов с квадратными скобками:\n",
        "int[] myArray;\n",
        " \n",
        "// Так как массивы являются объектами, нам необходимо создать их экземпляр с помощью ключевого слова new:\n",
        "int[] myArray = new int[5]; Таким образом создается массив myArray хранящий 5 целых чисел."
      ],
      "metadata": {
        "id": "qDB94nCeEpld"
      },
      "execution_count": null,
      "outputs": []
    },
    {
      "cell_type": "markdown",
      "source": [
        "После создания массива, вы можете присвоить значения к отдельным элементам, используя номер индекса"
      ],
      "metadata": {
        "id": "IG-I5V_7Eqtx"
      }
    },
    {
      "cell_type": "code",
      "source": [
        "int[] myArray = new int[5];\n",
        "myArary[0] = 23; //Таким образом, будет присвоено значение 23 к первому элементу массива.\n",
        " \n",
        " \n",
        "Мы можем предоставить начальные значения массиву при его объявлении, используя фигурные скобки:\n",
        "string[] name = new string[3];\n",
        "{\"Chmonya\", \"Mary\", \"Joe\"};\n",
        "double[] prices = {3.4, 4.3, 2.6, 5.9};\n",
        " \n",
        "Console.WriteLine(prives[2]); //Output is 2.6"
      ],
      "metadata": {
        "id": "d7GwFHTEErse"
      },
      "execution_count": null,
      "outputs": []
    },
    {
      "cell_type": "markdown",
      "source": [
        "Существует множество методов, доступных для массивов.\n",
        "Max возвращает наибольшее значение.\n",
        "Min возвращает наименьшее значение.\n",
        "Sum возвращает сумму всех элементов."
      ],
      "metadata": {
        "id": "Pdm3YiU6Etbs"
      }
    },
    {
      "cell_type": "code",
      "source": [
        "int[ ] arr = { 2, 4, 7, 1};\n",
        "            Console.WriteLine(arr.Max());\n",
        "            Console.WriteLine(arr.Min());\n",
        "            Console.WriteLine(arr.Sum());"
      ],
      "metadata": {
        "id": "DiOjxnbDEu6i"
      },
      "execution_count": null,
      "outputs": []
    },
    {
      "cell_type": "markdown",
      "source": [
        "#foreach"
      ],
      "metadata": {
        "id": "jQQUf49OEyFw"
      }
    },
    {
      "cell_type": "markdown",
      "source": [
        "Цикл foreach предоставляет короткий и простой способ получения доступа к элементам массива.\n",
        "Цикл foreach итерируется по массиву a и присваивает значение текущего элемента к переменной k при каждой итерации цикла. При первой итерации, k=a[0], при второй, k=a[1], и т.д."
      ],
      "metadata": {
        "id": "pxRyKdf2FBhE"
      }
    },
    {
      "cell_type": "code",
      "source": [
        "// Предыдущий пример получения доступа к элементам массива может быть написан с использованием цикла foreach:\n",
        "int[] a = new int[10];\n",
        "for (int k = 0; int k < 10; k++)\n",
        "{\n",
        "  a[k] = k;\n",
        "}\n",
        "foreach (int k in a)\n",
        "{\n",
        "  Console.WriteLine(k); //output 1 2 3...8 9\n",
        "}\n",
        " \n",
        " \n",
        " \n",
        "// Пользовательский ввод в масивах:\n",
        "            int[] numbers = new int[5];\n",
        "            int count = 0;           \n",
        "            while(count < 5)\n",
        "            {\n",
        "                numbers[count] = Convert.ToInt32(Console.ReadLine());\n",
        "                count++;\n",
        "            }"
      ],
      "metadata": {
        "id": "_Cf8ZCiYFC8k"
      },
      "execution_count": null,
      "outputs": []
    },
    {
      "cell_type": "markdown",
      "source": [
        "#Многомерные массивы"
      ],
      "metadata": {
        "id": "12LZ5LPIFVZp"
      }
    },
    {
      "cell_type": "markdown",
      "source": [
        "Массив может иметь несколько измерений. Многомерный массив объявляется следующим образом: \n",
        "type[, , … ,] arrayName = new type[size1, size2, …, sizeN];"
      ],
      "metadata": {
        "id": "IvZ8grqsFZfJ"
      }
    },
    {
      "cell_type": "code",
      "source": [
        "// Например, опредилим двумерный масив 3 на 4\n",
        "int[ , ] x = new int[3,4];"
      ],
      "metadata": {
        "id": "1Q8cXV68F8M5"
      },
      "execution_count": null,
      "outputs": []
    },
    {
      "cell_type": "markdown",
      "source": [
        "<div class=\"table-responsive\"><table>\n",
        "\t<tbody>\n",
        "\t\t<tr>\n",
        "\t\t\t<td></td>\n",
        "\t\t\t<td>Column 1</td>\n",
        "\t\t\t<td>Column 2</td>\n",
        "\t\t\t<td>Column 3</td>\n",
        "\t\t\t<td>Column 4</td>\n",
        "\t\t</tr>\n",
        "\t\t<tr>\n",
        "\t\t\t<td>Row 1</td>\n",
        "\t\t\t<td>x [0] [0]</td>\n",
        "\t\t\t<td>x [0] [1]</td>\n",
        "\t\t\t<td>x [0] [2]</td>\n",
        "\t\t\t<td>x [0] [3]</td>\n",
        "\t\t</tr>\n",
        "\t\t<tr>\n",
        "\t\t\t<td>Row 2</td>\n",
        "\t\t\t<td>x [1] [0]</td>\n",
        "\t\t\t<td>x [1] [1]</td>\n",
        "\t\t\t<td>x [1] [2]</td>\n",
        "\t\t\t<td>x [1] [3]</td>\n",
        "\t\t</tr>\n",
        "\t\t<tr>\n",
        "\t\t\t<td>Row 3</td>\n",
        "\t\t\t<td>x [2] [0]</td>\n",
        "\t\t\t<td>x [2] [1]</td>\n",
        "\t\t\t<td>x [2] [2]</td>\n",
        "\t\t\t<td>x [2] [3]</td>\n",
        "\t\t</tr>\n",
        "\t</tbody>\n",
        "</table></div>"
      ],
      "metadata": {
        "id": "IqwigA9YHjPq"
      }
    },
    {
      "cell_type": "code",
      "source": [
        "// Что бы вывести значения многомерного масива в виде таблици нужно написать такой код:\n",
        "int [ , ] someNums = {{2,3}, {5,6}, {4,6}};\n",
        "for (int k = 0; k < 3; k++)\n",
        "{\n",
        "  for (int j = 0; j <2; j++)\n",
        "  {\n",
        "    Console.Write(someNums[k, j] + \" \");\n",
        "  }\n",
        "  Console.WriteLine();\n",
        "}\n",
        " \n",
        "// k<3 - количество строк\n",
        "// j<2 - количество столбцов"
      ],
      "metadata": {
        "id": "bt3csQI_Hl5V"
      },
      "execution_count": null,
      "outputs": []
    },
    {
      "cell_type": "markdown",
      "source": [
        "#String в массивах"
      ],
      "metadata": {
        "id": "sI6bJU48HuHU"
      }
    },
    {
      "cell_type": "markdown",
      "source": [
        "Length возвращает длину строки.\n",
        "IndexOf(value) возвращает индекс первого вхождения значения в строке.\n",
        "Insert(index, value) вставляет значение в строку, начиная с указанного индекса.\n",
        "Remove(index) удаляет все символы в строке после указанного индекса.\n",
        "Replace(oldValue, newValue) заменяет указанное значение в строке.\n",
        "Substring(index, length) возвращает подстроку указанной длины, начиная с указанного индекса. Если длина не указана, то операция продолжается до конца строки.\n",
        "Contains(value) возвращает true(верно), если строка содержит указанное значение."
      ],
      "metadata": {
        "id": "LrZatOApHxzj"
      }
    },
    {
      "cell_type": "code",
      "source": [
        "string a = \"some text\";\n",
        "            Console.WriteLine(a.Length);\n",
        "            //Outputs 9\n",
        " \n",
        "            Console.WriteLine(a.IndexOf('t'));\n",
        "            //Outputs 5\n",
        " \n",
        "             a = a.Insert(0, \"This is \");\n",
        "            Console.WriteLine(a);\n",
        "            //Outputs \"This is some text\"\n",
        " \n",
        "            a = a.Replace(\"This is\", \"I am\");\n",
        "            Console.WriteLine(a);\n",
        "            //Outputs \"I am some text\"\n",
        " \n",
        "            if(a.Contains(\"some\"))\n",
        "                Console.WriteLine(\"found\");\n",
        "            //Outputs \"found\"\n",
        " \n",
        "            a = a.Remove(4);\n",
        "            Console.WriteLine(a);\n",
        "            //Outputs \"I am\"\n",
        " \n",
        "            a = a.Substring(2);\n",
        "            Console.WriteLine(a);\n",
        "            //Outputs \"am\""
      ],
      "metadata": {
        "id": "04z8OPyBHzoY"
      },
      "execution_count": null,
      "outputs": []
    },
    {
      "cell_type": "markdown",
      "source": [
        "#Возсожности методов"
      ],
      "metadata": {
        "id": "xMyrQJgTH1q5"
      }
    },
    {
      "cell_type": "markdown",
      "source": [
        "==============================================================================================MATH\n",
        "Math.PI константа ПИ.\n",
        "Math.E представляет натуральное логарифмическое основание e.\n",
        "Math.Max() возвращает наибольший из двух аргументов.\n",
        "Math.Min() возвращает наименьший из двух аргументов.\n",
        "Math.Abs() возвращает абсолютное значение его аргумента.\n",
        "Math.Sin() возвращает синус указанного угла.\n",
        "Math.Cos() возвращает косинус указанного угла.\n",
        "Math.Pow() возвращает определенное число, возведенное в указанную степень.\n",
        "Math.Round() округляет десятичное число к его ближайшему целому.\n",
        "Math.Sqrt() возвращает квадратный корень указанного числа.\n",
        "\n",
        "\n",
        "==============================================================================================ARRAY\n",
        "Array.Revers - обьявляет все значения массива в обратном порядке\n",
        "Array.Sort - возвращает все значения на свои места\n",
        "\n",
        "\n",
        "==============================================================================================STRING\n",
        "String.Concat(s1, s2); // combines the two strings\n",
        "String.Equals(s1, s2); // returns false\n",
        "\n",
        "\n",
        "==============================================================================================DATETIME\n",
        "DateTime.Now - текущее время\n",
        "DateTime.Day - текущий день\n",
        "DateTime.DaysInMonth - возвращает количество дней в определенный месяц поределенного года   // DateTime.DaysInMonth(2016,2);  "
      ],
      "metadata": {
        "id": "QNuIDG_KH-bB"
      }
    }
  ]
}